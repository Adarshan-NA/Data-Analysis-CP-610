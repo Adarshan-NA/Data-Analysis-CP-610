{
  "cells": [
    {
      "cell_type": "markdown",
      "metadata": {
        "id": "H3NAksCvrBZX"
      },
      "source": [
        "## **Part 1: Data Understanding**\n",
        "Load the dataset (crx.data) into a pandas DataFrame."
      ]
    },
    {
      "cell_type": "code",
      "execution_count": 189,
      "metadata": {
        "id": "Oo07VMnEs7pl"
      },
      "outputs": [],
      "source": [
        "import pandas as pd\n",
        "\n",
        "data = pd.read_csv('crx.data', header=None)"
      ]
    },
    {
      "cell_type": "markdown",
      "metadata": {
        "id": "kyz8hay9NMmI"
      },
      "source": [
        "Checking the data types of the attributes to know which are nominal and which are numeric"
      ]
    },
    {
      "cell_type": "code",
      "source": [
        "data.value_counts()"
      ],
      "metadata": {
        "colab": {
          "base_uri": "https://localhost:8080/",
          "height": 490
        },
        "id": "MDI3UWUtsJ_Y",
        "outputId": "ac2c1004-3e89-4f9f-9dab-247d19f4aef1"
      },
      "execution_count": 190,
      "outputs": [
        {
          "output_type": "execute_result",
          "data": {
            "text/plain": [
              "0  1      2       3  4  5   6  7      8  9  10  11  12  13     14    15\n",
              "?  20.08  0.125   u  g  q   v  1.000  f  t  1   f   g   00240  768   +     1\n",
              "b  30.17  6.500   u  g  cc  v  3.125  t  t  8   f   g   00330  1200  +     1\n",
              "   29.67  1.415   u  g  w   h  0.750  t  t  1   f   g   00240  100   +     1\n",
              "   29.83  1.250   y  p  k   v  0.250  f  f  0   f   g   00224  0     -     1\n",
              "          2.040   y  p  x   h  0.040  f  f  0   f   g   00128  1     -     1\n",
              "                                                                          ..\n",
              "   16.50  0.125   u  g  c   v  0.165  f  f  0   f   g   00132  0     -     1\n",
              "   16.92  0.335   y  p  k   v  0.290  f  f  0   f   s   00200  0     -     1\n",
              "   17.08  0.085   y  p  c   v  0.040  f  f  0   f   g   00140  722   -     1\n",
              "          0.250   u  g  q   v  0.335  f  t  4   f   g   00160  8     -     1\n",
              "   ?      10.500  u  g  x   v  6.500  t  f  0   f   g   00000  0     +     1\n",
              "Name: count, Length: 690, dtype: int64"
            ],
            "text/html": [
              "<div>\n",
              "<style scoped>\n",
              "    .dataframe tbody tr th:only-of-type {\n",
              "        vertical-align: middle;\n",
              "    }\n",
              "\n",
              "    .dataframe tbody tr th {\n",
              "        vertical-align: top;\n",
              "    }\n",
              "\n",
              "    .dataframe thead th {\n",
              "        text-align: right;\n",
              "    }\n",
              "</style>\n",
              "<table border=\"1\" class=\"dataframe\">\n",
              "  <thead>\n",
              "    <tr style=\"text-align: right;\">\n",
              "      <th></th>\n",
              "      <th></th>\n",
              "      <th></th>\n",
              "      <th></th>\n",
              "      <th></th>\n",
              "      <th></th>\n",
              "      <th></th>\n",
              "      <th></th>\n",
              "      <th></th>\n",
              "      <th></th>\n",
              "      <th></th>\n",
              "      <th></th>\n",
              "      <th></th>\n",
              "      <th></th>\n",
              "      <th></th>\n",
              "      <th></th>\n",
              "      <th>count</th>\n",
              "    </tr>\n",
              "    <tr>\n",
              "      <th>0</th>\n",
              "      <th>1</th>\n",
              "      <th>2</th>\n",
              "      <th>3</th>\n",
              "      <th>4</th>\n",
              "      <th>5</th>\n",
              "      <th>6</th>\n",
              "      <th>7</th>\n",
              "      <th>8</th>\n",
              "      <th>9</th>\n",
              "      <th>10</th>\n",
              "      <th>11</th>\n",
              "      <th>12</th>\n",
              "      <th>13</th>\n",
              "      <th>14</th>\n",
              "      <th>15</th>\n",
              "      <th></th>\n",
              "    </tr>\n",
              "  </thead>\n",
              "  <tbody>\n",
              "    <tr>\n",
              "      <th>?</th>\n",
              "      <th>20.08</th>\n",
              "      <th>0.125</th>\n",
              "      <th>u</th>\n",
              "      <th>g</th>\n",
              "      <th>q</th>\n",
              "      <th>v</th>\n",
              "      <th>1.000</th>\n",
              "      <th>f</th>\n",
              "      <th>t</th>\n",
              "      <th>1</th>\n",
              "      <th>f</th>\n",
              "      <th>g</th>\n",
              "      <th>00240</th>\n",
              "      <th>768</th>\n",
              "      <th>+</th>\n",
              "      <td>1</td>\n",
              "    </tr>\n",
              "    <tr>\n",
              "      <th rowspan=\"10\" valign=\"top\">b</th>\n",
              "      <th>30.17</th>\n",
              "      <th>6.500</th>\n",
              "      <th>u</th>\n",
              "      <th>g</th>\n",
              "      <th>cc</th>\n",
              "      <th>v</th>\n",
              "      <th>3.125</th>\n",
              "      <th>t</th>\n",
              "      <th>t</th>\n",
              "      <th>8</th>\n",
              "      <th>f</th>\n",
              "      <th>g</th>\n",
              "      <th>00330</th>\n",
              "      <th>1200</th>\n",
              "      <th>+</th>\n",
              "      <td>1</td>\n",
              "    </tr>\n",
              "    <tr>\n",
              "      <th>29.67</th>\n",
              "      <th>1.415</th>\n",
              "      <th>u</th>\n",
              "      <th>g</th>\n",
              "      <th>w</th>\n",
              "      <th>h</th>\n",
              "      <th>0.750</th>\n",
              "      <th>t</th>\n",
              "      <th>t</th>\n",
              "      <th>1</th>\n",
              "      <th>f</th>\n",
              "      <th>g</th>\n",
              "      <th>00240</th>\n",
              "      <th>100</th>\n",
              "      <th>+</th>\n",
              "      <td>1</td>\n",
              "    </tr>\n",
              "    <tr>\n",
              "      <th rowspan=\"2\" valign=\"top\">29.83</th>\n",
              "      <th>1.250</th>\n",
              "      <th>y</th>\n",
              "      <th>p</th>\n",
              "      <th>k</th>\n",
              "      <th>v</th>\n",
              "      <th>0.250</th>\n",
              "      <th>f</th>\n",
              "      <th>f</th>\n",
              "      <th>0</th>\n",
              "      <th>f</th>\n",
              "      <th>g</th>\n",
              "      <th>00224</th>\n",
              "      <th>0</th>\n",
              "      <th>-</th>\n",
              "      <td>1</td>\n",
              "    </tr>\n",
              "    <tr>\n",
              "      <th>2.040</th>\n",
              "      <th>y</th>\n",
              "      <th>p</th>\n",
              "      <th>x</th>\n",
              "      <th>h</th>\n",
              "      <th>0.040</th>\n",
              "      <th>f</th>\n",
              "      <th>f</th>\n",
              "      <th>0</th>\n",
              "      <th>f</th>\n",
              "      <th>g</th>\n",
              "      <th>00128</th>\n",
              "      <th>1</th>\n",
              "      <th>-</th>\n",
              "      <td>1</td>\n",
              "    </tr>\n",
              "    <tr>\n",
              "      <th>...</th>\n",
              "      <th>...</th>\n",
              "      <th>...</th>\n",
              "      <th>...</th>\n",
              "      <th>...</th>\n",
              "      <th>...</th>\n",
              "      <th>...</th>\n",
              "      <th>...</th>\n",
              "      <th>...</th>\n",
              "      <th>...</th>\n",
              "      <th>...</th>\n",
              "      <th>...</th>\n",
              "      <th>...</th>\n",
              "      <th>...</th>\n",
              "      <th>...</th>\n",
              "      <td>...</td>\n",
              "    </tr>\n",
              "    <tr>\n",
              "      <th>16.50</th>\n",
              "      <th>0.125</th>\n",
              "      <th>u</th>\n",
              "      <th>g</th>\n",
              "      <th>c</th>\n",
              "      <th>v</th>\n",
              "      <th>0.165</th>\n",
              "      <th>f</th>\n",
              "      <th>f</th>\n",
              "      <th>0</th>\n",
              "      <th>f</th>\n",
              "      <th>g</th>\n",
              "      <th>00132</th>\n",
              "      <th>0</th>\n",
              "      <th>-</th>\n",
              "      <td>1</td>\n",
              "    </tr>\n",
              "    <tr>\n",
              "      <th>16.92</th>\n",
              "      <th>0.335</th>\n",
              "      <th>y</th>\n",
              "      <th>p</th>\n",
              "      <th>k</th>\n",
              "      <th>v</th>\n",
              "      <th>0.290</th>\n",
              "      <th>f</th>\n",
              "      <th>f</th>\n",
              "      <th>0</th>\n",
              "      <th>f</th>\n",
              "      <th>s</th>\n",
              "      <th>00200</th>\n",
              "      <th>0</th>\n",
              "      <th>-</th>\n",
              "      <td>1</td>\n",
              "    </tr>\n",
              "    <tr>\n",
              "      <th rowspan=\"2\" valign=\"top\">17.08</th>\n",
              "      <th>0.085</th>\n",
              "      <th>y</th>\n",
              "      <th>p</th>\n",
              "      <th>c</th>\n",
              "      <th>v</th>\n",
              "      <th>0.040</th>\n",
              "      <th>f</th>\n",
              "      <th>f</th>\n",
              "      <th>0</th>\n",
              "      <th>f</th>\n",
              "      <th>g</th>\n",
              "      <th>00140</th>\n",
              "      <th>722</th>\n",
              "      <th>-</th>\n",
              "      <td>1</td>\n",
              "    </tr>\n",
              "    <tr>\n",
              "      <th>0.250</th>\n",
              "      <th>u</th>\n",
              "      <th>g</th>\n",
              "      <th>q</th>\n",
              "      <th>v</th>\n",
              "      <th>0.335</th>\n",
              "      <th>f</th>\n",
              "      <th>t</th>\n",
              "      <th>4</th>\n",
              "      <th>f</th>\n",
              "      <th>g</th>\n",
              "      <th>00160</th>\n",
              "      <th>8</th>\n",
              "      <th>-</th>\n",
              "      <td>1</td>\n",
              "    </tr>\n",
              "    <tr>\n",
              "      <th>?</th>\n",
              "      <th>10.500</th>\n",
              "      <th>u</th>\n",
              "      <th>g</th>\n",
              "      <th>x</th>\n",
              "      <th>v</th>\n",
              "      <th>6.500</th>\n",
              "      <th>t</th>\n",
              "      <th>f</th>\n",
              "      <th>0</th>\n",
              "      <th>f</th>\n",
              "      <th>g</th>\n",
              "      <th>00000</th>\n",
              "      <th>0</th>\n",
              "      <th>+</th>\n",
              "      <td>1</td>\n",
              "    </tr>\n",
              "  </tbody>\n",
              "</table>\n",
              "<p>690 rows × 1 columns</p>\n",
              "</div><br><label><b>dtype:</b> int64</label>"
            ]
          },
          "metadata": {},
          "execution_count": 190
        }
      ]
    },
    {
      "cell_type": "markdown",
      "metadata": {
        "id": "Q6dig8FFuPaI"
      },
      "source": [
        "For nominal (categorical) attributes, provide the frequency for each possible value."
      ]
    },
    {
      "cell_type": "code",
      "execution_count": 191,
      "metadata": {
        "colab": {
          "base_uri": "https://localhost:8080/"
        },
        "id": "QC-vGllQuTrL",
        "outputId": "1fe69de8-a8da-4f1f-9a28-f122dbb21b58"
      },
      "outputs": [
        {
          "output_type": "stream",
          "name": "stdout",
          "text": [
            "0\n",
            "b    468\n",
            "a    210\n",
            "?     12\n",
            "Name: count, dtype: int64\n",
            "3\n",
            "u    519\n",
            "y    163\n",
            "?      6\n",
            "l      2\n",
            "Name: count, dtype: int64\n",
            "4\n",
            "g     519\n",
            "p     163\n",
            "?       6\n",
            "gg      2\n",
            "Name: count, dtype: int64\n",
            "5\n",
            "c     137\n",
            "q      78\n",
            "w      64\n",
            "i      59\n",
            "aa     54\n",
            "ff     53\n",
            "k      51\n",
            "cc     41\n",
            "m      38\n",
            "x      38\n",
            "d      30\n",
            "e      25\n",
            "j      10\n",
            "?       9\n",
            "r       3\n",
            "Name: count, dtype: int64\n",
            "6\n",
            "v     399\n",
            "h     138\n",
            "bb     59\n",
            "ff     57\n",
            "?       9\n",
            "j       8\n",
            "z       8\n",
            "dd      6\n",
            "n       4\n",
            "o       2\n",
            "Name: count, dtype: int64\n",
            "8\n",
            "t    361\n",
            "f    329\n",
            "Name: count, dtype: int64\n",
            "9\n",
            "f    395\n",
            "t    295\n",
            "Name: count, dtype: int64\n",
            "11\n",
            "f    374\n",
            "t    316\n",
            "Name: count, dtype: int64\n",
            "12\n",
            "g    625\n",
            "s     57\n",
            "p      8\n",
            "Name: count, dtype: int64\n"
          ]
        }
      ],
      "source": [
        "nominal_columns = [0, 3, 4, 5, 6, 8, 9, 11, 12]\n",
        "for col in nominal_columns:\n",
        "    print(data[col].value_counts())"
      ]
    },
    {
      "cell_type": "markdown",
      "metadata": {
        "id": "0Q4K-3ztHXRQ"
      },
      "source": [
        "For continuous attributes, calculate and report the minimum, maximum, median, mean, standard deviation, and quantiles (25%, 50%, 75%)."
      ]
    },
    {
      "cell_type": "code",
      "execution_count": 192,
      "metadata": {
        "colab": {
          "base_uri": "https://localhost:8080/"
        },
        "id": "pGlXlr_JHWRv",
        "outputId": "2d539497-4d70-4d95-ab0a-72f474d834a6"
      },
      "outputs": [
        {
          "output_type": "stream",
          "name": "stdout",
          "text": [
            "               1           2           7          10           13  \\\n",
            "count  678.000000  690.000000  690.000000  690.00000   677.000000   \n",
            "mean    31.568171    4.758725    2.223406    2.40000   184.014771   \n",
            "std     11.957862    4.978163    3.346513    4.86294   173.806768   \n",
            "min     13.750000    0.000000    0.000000    0.00000     0.000000   \n",
            "25%     22.602500    1.000000    0.165000    0.00000    75.000000   \n",
            "50%     28.460000    2.750000    1.000000    0.00000   160.000000   \n",
            "75%     38.230000    7.207500    2.625000    3.00000   276.000000   \n",
            "max     80.250000   28.000000   28.500000   67.00000  2000.000000   \n",
            "\n",
            "                  14  \n",
            "count     690.000000  \n",
            "mean     1017.385507  \n",
            "std      5210.102598  \n",
            "min         0.000000  \n",
            "25%         0.000000  \n",
            "50%         5.000000  \n",
            "75%       395.500000  \n",
            "max    100000.000000  \n"
          ]
        }
      ],
      "source": [
        "continuous_columns = data.columns[[1, 2, 7, 10, 13, 14]].tolist()\n",
        "for column in continuous_columns:\n",
        "    data[column] = pd.to_numeric(data[column], errors='coerce')\n",
        "\n",
        "stats = data[continuous_columns].describe()\n",
        "print(stats)\n"
      ]
    },
    {
      "cell_type": "markdown",
      "source": [
        "50% is the median for the above attributes"
      ],
      "metadata": {
        "id": "LZBjj25uYlvr"
      }
    },
    {
      "cell_type": "markdown",
      "metadata": {
        "id": "sJF_JZQJLZ0-"
      },
      "source": [
        "## **Part 2: Data Processing**\n",
        "Identify and report the number of missing values in the dataset."
      ]
    },
    {
      "cell_type": "markdown",
      "metadata": {
        "id": "VI3r-MsALtll"
      },
      "source": [
        "Converting the '?' values to 'NaN' values to find the missing values in the dataset"
      ]
    },
    {
      "cell_type": "code",
      "execution_count": 193,
      "metadata": {
        "id": "swdpA2rLKEXt"
      },
      "outputs": [],
      "source": [
        "import numpy as np\n",
        "data.replace('?', np.nan, inplace=True)"
      ]
    },
    {
      "cell_type": "code",
      "execution_count": 194,
      "metadata": {
        "colab": {
          "base_uri": "https://localhost:8080/"
        },
        "id": "avf_D3VKKaB0",
        "outputId": "c919fc8d-6f61-4ac5-94bd-b1f1df6778ca"
      },
      "outputs": [
        {
          "output_type": "stream",
          "name": "stdout",
          "text": [
            "0     12\n",
            "1     12\n",
            "2      0\n",
            "3      6\n",
            "4      6\n",
            "5      9\n",
            "6      9\n",
            "7      0\n",
            "8      0\n",
            "9      0\n",
            "10     0\n",
            "11     0\n",
            "12     0\n",
            "13    13\n",
            "14     0\n",
            "15     0\n",
            "dtype: int64\n"
          ]
        }
      ],
      "source": [
        "missing_values = data.isnull().sum()\n",
        "print(missing_values)"
      ]
    },
    {
      "cell_type": "markdown",
      "metadata": {
        "id": "ot9MdcMJNxJS"
      },
      "source": [
        "For nominal attributes, replace missing values with the mode."
      ]
    },
    {
      "cell_type": "code",
      "execution_count": 195,
      "metadata": {
        "id": "tTojyPONN7wz"
      },
      "outputs": [],
      "source": [
        "for col in nominal_columns:\n",
        "    mode = data[col].mode()[0]\n",
        "    data[col].fillna(mode, inplace=True)"
      ]
    },
    {
      "cell_type": "markdown",
      "metadata": {
        "id": "jDgynHrZObGr"
      },
      "source": [
        "For continuous attributes, replace missing values with the mean."
      ]
    },
    {
      "cell_type": "code",
      "execution_count": 196,
      "metadata": {
        "id": "z81I2s8FP4GQ"
      },
      "outputs": [],
      "source": [
        "for col in continuous_columns:\n",
        "    mean = data[col].mean()\n",
        "    data[col].fillna(mean, inplace=True)"
      ]
    },
    {
      "cell_type": "markdown",
      "metadata": {
        "id": "cwwSFeXjP94P"
      },
      "source": [
        "To check whether all the missing values have been replaced."
      ]
    },
    {
      "cell_type": "code",
      "execution_count": 197,
      "metadata": {
        "colab": {
          "base_uri": "https://localhost:8080/"
        },
        "id": "BEmF1_sDQFGd",
        "outputId": "50eb675b-ddf8-4478-eacc-49936613d86d"
      },
      "outputs": [
        {
          "output_type": "stream",
          "name": "stdout",
          "text": [
            "0     0\n",
            "1     0\n",
            "2     0\n",
            "3     0\n",
            "4     0\n",
            "5     0\n",
            "6     0\n",
            "7     0\n",
            "8     0\n",
            "9     0\n",
            "10    0\n",
            "11    0\n",
            "12    0\n",
            "13    0\n",
            "14    0\n",
            "15    0\n",
            "dtype: int64\n"
          ]
        }
      ],
      "source": [
        "missing_values = data.isnull().sum()\n",
        "print(missing_values)"
      ]
    },
    {
      "cell_type": "markdown",
      "metadata": {
        "id": "hzS96PN8SR0n"
      },
      "source": [
        "## **Part 3: Data Visualization**\n",
        "Create side-by-side boxplots for continuous attributes A2, A3, A8, A11"
      ]
    },
    {
      "cell_type": "code",
      "execution_count": 198,
      "metadata": {
        "colab": {
          "base_uri": "https://localhost:8080/"
        },
        "id": "Asvg5nS2wp_I",
        "outputId": "fb9370a5-bd3f-41d0-98ad-ce4c71545990"
      },
      "outputs": [
        {
          "output_type": "stream",
          "name": "stdout",
          "text": [
            "0    30.83\n",
            "1    58.67\n",
            "2    24.50\n",
            "3    27.83\n",
            "4    20.17\n",
            "5    32.08\n",
            "6    33.17\n",
            "7    22.92\n",
            "8    54.42\n",
            "9    42.50\n",
            "Name: 1, dtype: float64\n"
          ]
        }
      ],
      "source": [
        "print(data[1].head(10))"
      ]
    },
    {
      "cell_type": "code",
      "source": [
        "data[1].fillna(0, inplace=True)"
      ],
      "metadata": {
        "id": "OvjkDk1HULyg"
      },
      "execution_count": 199,
      "outputs": []
    },
    {
      "cell_type": "code",
      "source": [
        "data[1] = pd.to_numeric(data[1], errors='coerce')"
      ],
      "metadata": {
        "id": "aNVOQXDho8xT"
      },
      "execution_count": 200,
      "outputs": []
    },
    {
      "cell_type": "code",
      "execution_count": 201,
      "metadata": {
        "colab": {
          "base_uri": "https://localhost:8080/",
          "height": 362
        },
        "id": "XxcSGxieSfMU",
        "outputId": "9a4a6ccc-0530-4b27-96b0-591a40fdae58"
      },
      "outputs": [
        {
          "output_type": "display_data",
          "data": {
            "text/plain": [
              "<Figure size 1200x600 with 1 Axes>"
            ],
            "image/png": "[encoded data removed]"
          },
          "metadata": {}
        }
      ],
      "source": [
        "import matplotlib.pyplot as plt\n",
        "import seaborn as sns\n",
        "\n",
        "plt.figure(figsize=(12, 6))\n",
        "sns.boxplot(data=data[[1,2,7,10]])\n",
        "plt.title('Boxplots for Continuous Attributes A2, A3, A8, A11')\n",
        "plt.xlabel('A2,A3,A8,A11 Values')\n",
        "plt.ylabel('Frequency')\n",
        "plt.show()\n"
      ]
    },
    {
      "cell_type": "markdown",
      "metadata": {
        "id": "mP74zTJvTpix"
      },
      "source": [
        "Create a bar chart for nominal attribute A4"
      ]
    },
    {
      "cell_type": "code",
      "execution_count": 202,
      "metadata": {
        "colab": {
          "base_uri": "https://localhost:8080/",
          "height": 442
        },
        "id": "21_sl2M2TpNl",
        "outputId": "443f96df-10d6-44ac-bfb4-e205e55473ae"
      },
      "outputs": [
        {
          "output_type": "display_data",
          "data": {
            "text/plain": [
              "<Figure size 800x500 with 1 Axes>"
            ],
            "image/png": "[encoded data removed]"
          },
          "metadata": {}
        }
      ],
      "source": [
        "plt.figure(figsize=(8, 5))\n",
        "sns.countplot(x=data[3])\n",
        "plt.title('Bar Chart for Nominal Attribute A4')\n",
        "plt.xlabel('A4 Values')\n",
        "plt.ylabel('Frequency')\n",
        "plt.show()\n"
      ]
    },
    {
      "cell_type": "markdown",
      "metadata": {
        "id": "1A-12HgmT8Sc"
      },
      "source": [
        "Plot histograms for continuous attribute A15"
      ]
    },
    {
      "cell_type": "code",
      "execution_count": 203,
      "metadata": {
        "colab": {
          "base_uri": "https://localhost:8080/",
          "height": 442
        },
        "id": "jKYRMiKdUzGx",
        "outputId": "31c0a446-645b-4308-bb18-8003ccc6a549"
      },
      "outputs": [
        {
          "output_type": "display_data",
          "data": {
            "text/plain": [
              "<Figure size 800x500 with 1 Axes>"
            ],
            "image/png": "[encoded data removed]"
          },
          "metadata": {}
        }
      ],
      "source": [
        "import matplotlib.pyplot as plt\n",
        "\n",
        "plt.figure(figsize=(8, 5))\n",
        "plt.hist(data[14], bins=20, color='red')\n",
        "plt.title('Histogram of A15')\n",
        "plt.xlabel('A15 Values')\n",
        "plt.ylabel('Frequency')\n",
        "plt.show()\n"
      ]
    },
    {
      "cell_type": "markdown",
      "source": [
        "What do you observe from this distribution? How can you better visualize A15 with a histogram plot?"
      ],
      "metadata": {
        "id": "Bu-OO9fsXCf-"
      }
    },
    {
      "cell_type": "markdown",
      "source": [
        "We will check for skewness of A15"
      ],
      "metadata": {
        "id": "_1DORS8bXNu-"
      }
    },
    {
      "cell_type": "code",
      "source": [
        "skewness = data[14].skew()\n",
        "print(f\"Skewness of A15: {skewness}\")"
      ],
      "metadata": {
        "colab": {
          "base_uri": "https://localhost:8080/"
        },
        "id": "E4i_4kVaXCIj",
        "outputId": "b5c1e382-51d9-4009-8fc7-2d349663af6f"
      },
      "execution_count": 204,
      "outputs": [
        {
          "output_type": "stream",
          "name": "stdout",
          "text": [
            "Skewness of A15: 13.140655014445459\n"
          ]
        }
      ]
    },
    {
      "cell_type": "markdown",
      "source": [
        "Skewness > 0, so its positively skewed. We will use boxplot to find the outliners."
      ],
      "metadata": {
        "id": "oeb-13MBZdLz"
      }
    },
    {
      "cell_type": "code",
      "source": [
        "plt.figure(figsize=(8, 5))\n",
        "plt.boxplot(data[14], vert=False)\n",
        "plt.title('Boxplot of A15')\n",
        "plt.show()\n"
      ],
      "metadata": {
        "colab": {
          "base_uri": "https://localhost:8080/",
          "height": 448
        },
        "id": "LAde-DUTX0kA",
        "outputId": "927eac3a-e8fd-40fc-93e6-05714480dbcd"
      },
      "execution_count": 205,
      "outputs": [
        {
          "output_type": "display_data",
          "data": {
            "text/plain": [
              "<Figure size 800x500 with 1 Axes>"
            ],
            "image/png": "[encoded data removed]"
          },
          "metadata": {}
        }
      ]
    },
    {
      "cell_type": "markdown",
      "source": [
        "Since A15 is heavily skewed, We will apply a log transformation to reduce skewness and make the data more normal."
      ],
      "metadata": {
        "id": "CSfgfcXZZ4p2"
      }
    },
    {
      "cell_type": "code",
      "execution_count": 206,
      "metadata": {
        "colab": {
          "base_uri": "https://localhost:8080/",
          "height": 439
        },
        "id": "WCBiGVY8VJzD",
        "outputId": "eaeba61f-1f3c-4f7f-ab92-1ee15f89c381"
      },
      "outputs": [
        {
          "output_type": "display_data",
          "data": {
            "text/plain": [
              "<Figure size 800x500 with 1 Axes>"
            ],
            "image/png": "[encoded data removed]"
          },
          "metadata": {}
        }
      ],
      "source": [
        "import numpy as np\n",
        "\n",
        "data[14] = np.log(data[14] + 1)\n",
        "\n",
        "plt.figure(figsize=(8, 5))\n",
        "plt.hist(data[14], bins=20, color='green')\n",
        "plt.title('Log-Transformed Histogram of A15')\n",
        "plt.xlabel('Log of A15 Values')\n",
        "plt.ylabel('Frequency')\n",
        "plt.show()\n"
      ]
    }
  ],
  "metadata": {
    "colab": {
      "provenance": []
    },
    "kernelspec": {
      "display_name": "Python 3",
      "name": "python3"
    },
    "language_info": {
      "name": "python"
    }
  },
  "nbformat": 4,
  "nbformat_minor": 0
}